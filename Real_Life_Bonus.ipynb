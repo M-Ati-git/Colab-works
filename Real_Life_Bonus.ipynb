{
  "nbformat": 4,
  "nbformat_minor": 0,
  "metadata": {
    "colab": {
      "provenance": [],
      "authorship_tag": "ABX9TyM6DxNlvDKegJ8EDenzhF4V",
      "include_colab_link": true
    },
    "kernelspec": {
      "name": "python3",
      "display_name": "Python 3"
    },
    "language_info": {
      "name": "python"
    }
  },
  "cells": [
    {
      "cell_type": "markdown",
      "metadata": {
        "id": "view-in-github",
        "colab_type": "text"
      },
      "source": [
        "<a href=\"https://colab.research.google.com/github/M-Ati-git/Colab-works/blob/main/Real_Life_Bonus.ipynb\" target=\"_parent\"><img src=\"https://colab.research.google.com/assets/colab-badge.svg\" alt=\"Open In Colab\"/></a>"
      ]
    },
    {
      "cell_type": "code",
      "execution_count": null,
      "metadata": {
        "id": "8kt4g0MF0Nyw"
      },
      "outputs": [],
      "source": [
        "from bs4 import BeautifulSoup\n",
        "import pandas as pd\n",
        "import requests\n",
        "\n",
        "def fetch_budget(imdb_id: str) -> int:,\n",
        "    \\\"\\\"\\\"Fetch the 'Budget' from Box Office Mojo using imdb_id.,\n",
        ",\n",
        "    :param imdb_id: The ID of the movie (e.g., \\\"tt0424880\\\").,\n",
        "    :return:        Budget as an integer (e.g., 61000000), or None if not found.,\n",
        "    \\\"\\\"\\\",\n",
        "    url = f\\\"https://www.boxofficemojo.com/title/{imdb_id}/\\\",\n",
        "    response = requests.get(url),\n",
        "    soup = BeautifulSoup(response.content, 'html.parser'),\n",
        "    budget_section = soup.find('div', class_='a-section a-spacing-none mojo-summary-values mojo-hidden-from-mobile'),\n",
        ",\n",
        "    if budget_section:,\n",
        "        for div in budget_section.find_all('div', class_='a-section a-spacing-none'):,\n",
        "            if 'Budget' in div.text:,\n",
        "                try:,\n",
        "                    budget = div.find_all('span')[1].text.strip(),\n",
        "                    return int(budget.replace(\\\"$\\\", \\\"\\\").replace(\\\",\\\", \\\"\\\")),\n",
        "                except (AttributeError, ValueError):,\n",
        "                    return None,\n",
        "    return None,\n",
        "\n",
        "def update_missing_production_cost(movie_df: pd.DataFrame) -> None:,\n",
        "        \"    \\\"\\\"\\\"Find missing production_cost values, scrape budget, and update the DataFrame in place.,\n",
        "        \",\n",
        "        \"    :param movie_df: The DataFrame containing movie data.,\n",
        "        \"    \\\"\\\"\\\",\n",
        "        \"    missing_budget_rows = movie_df['production_cost'].isna(),\n",
        "        \",\n",
        "        \"    for index in movie_df[missing_budget_rows].index:,\n",
        "        \"        imdb_id = movie_df.at[index, 'imdb_id'],\n",
        "        \"        budget = fetch_budget(imdb_id),\n",
        "        \",\n",
        "        \"        if budget:,\n",
        "        \"            movie_df.at[index, 'production_cost'] = budget,\n",
        "        \"            print(f\\\"Updated {imdb_id} with budget: {budget}\\\"),\n",
        "        \"        else:,\n",
        "        \"            print(f\\\"No budget found for {imdb_id}\\\"),\n",
        "        \",\n",
        "        \",\n",
        "        \"def process_movie_data(file_path: str) -> None:,\n",
        "        \"    \\\"\\\"\\\"Reads, processes, updates, and saves the movie dataset.,\n",
        "        \",\n",
        "        \"    :param file_path: Path to the input CSV file.,\n",
        "        \"    \\\"\\\"\\\",\n",
        "        \"    movie_df = pd.read_csv(file_path, delimiter=\\\";\\\"),\n",
        "        \",\n",
        "        \"    # Update missing production costs directly in movie_df,\n",
        "        \"    update_missing_production_cost(movie_df),\n",
        "        \",\n",
        "        \"    # Convert ratings to float,\n",
        "        \"    movie_df[\\\"average_rating\\\"] = movie_df[\\\"average_rating\\\"].str.replace(',', '.').astype(float),\n",
        "        \",\n",
        "        \"    # Filter movies with a rating of 7 or higher,\n",
        "        \"    movie_df_filtered = movie_df[movie_df['average_rating'] >= 7][[\\\"imdb_id\\\", \\\"production_cost\\\"]],\n",
        "        \",\n",
        "        \"    # Save updated files,\n",
        "        \"    movie_df.to_csv(\\\"movies_updated.csv\\\", index=False),\n",
        "        \"    movie_df_filtered.to_csv(\\\"movies_updated_filtered.csv\\\", index=False),\n",
        "        \"    print(\\\"Files saved successfully.\\\")"
      ]
    }
  ]
}